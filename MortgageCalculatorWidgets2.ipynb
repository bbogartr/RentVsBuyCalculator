{
 "cells": [
  {
   "cell_type": "markdown",
   "id": "18383fa8-8607-4385-85dc-d1ac5c83c349",
   "metadata": {},
   "source": [
    "## create variables"
   ]
  },
  {
   "cell_type": "code",
   "execution_count": 5,
   "id": "a84e5f1f-996e-4577-8158-d7dc338154fe",
   "metadata": {},
   "outputs": [],
   "source": [
    "import matplotlib.pyplot as plt\n",
    "import numpy as np\n",
    "import ipywidgets"
   ]
  },
  {
   "cell_type": "markdown",
   "id": "7e585571-49c8-4893-a727-0029abc12f3f",
   "metadata": {},
   "source": [
    "### variables"
   ]
  },
  {
   "cell_type": "code",
   "execution_count": 6,
   "id": "30ba456d-da19-49a5-988a-54bf00598a06",
   "metadata": {},
   "outputs": [],
   "source": [
    "# House Price\n",
    "price=500000\n",
    "# Down Payment\n",
    "downPayment=200000\n",
    "# Down payment percent\n",
    "downPcnt=downPayment/price\n",
    "# Loan Amount\n",
    "loanAmt= price-downPayment\n",
    "# Annual Interest Rate (percent%)\n",
    "interestRate= 7.21\n",
    "# Life of Loan (Years) aka: Loan term\n",
    "loanTerm= 30\n",
    "# Number of Payments per Year\n",
    "nAnnualPayments= 12\n",
    "# Interest Total Cost\n",
    "interestCost=(interestRate/100)*loanAmt\n",
    "# Monthly mortgage\n",
    "#mortgageMonthly=(loanAmt+interestCost)/(loanTerm*nAnnualPayments)\n",
    "#mortgageInterestYearly=interestCost/(loanTerm*nAnnualPayments)\n",
    "\n",
    "# propTax (percent)\n",
    "taxYearly=price*(18.42/1000)\n",
    "taxMonthly=taxYearly/12\n",
    "# Insurance (percent)\n",
    "insurancePcnt= .04\n",
    "#Monthly insurance\n",
    "insuranceYearly=price*insurancePcnt\n",
    "# HOA (monthly)\n",
    "hoaYearly=360*12\n",
    "\n",
    "# Yearly income\n",
    "incomeAnnual=300000\n",
    "\n",
    "# Annual house appreciation\n",
    "pctAnnualGrowth=.05\n",
    "\n",
    "rentMonthly=3500"
   ]
  },
  {
   "cell_type": "markdown",
   "id": "3ea5c9e2-5c7b-4754-af90-8416f5a6ecde",
   "metadata": {},
   "source": [
    "### Amortization schedule averaged years"
   ]
  },
  {
   "cell_type": "code",
   "execution_count": 7,
   "id": "88909674-f1bc-4d73-b164-1e3bd817e26d",
   "metadata": {},
   "outputs": [],
   "source": [
    "def calculate_amortization_schedule(loan_amount, annual_rate, loan_term_years):\n",
    "    monthly_rate = annual_rate / 100 / 12\n",
    "    total_payments = loan_term_years * 12\n",
    "\n",
    "    # Calculate fixed monthly mortgage payment\n",
    "    monthly_payment = loan_amount * monthly_rate / (1 - (1 + monthly_rate) ** -total_payments)\n",
    "\n",
    "    schedule = []\n",
    "    balance = loan_amount\n",
    "\n",
    "    for month in range(1, total_payments + 1):\n",
    "        interest = balance * monthly_rate\n",
    "        principal = monthly_payment - interest\n",
    "        balance -= principal\n",
    "\n",
    "        schedule.append({\n",
    "            \"Month\": month,\n",
    "            \"Payment\": round(monthly_payment, 2),\n",
    "            \"Principal\": round(principal, 2),\n",
    "            \"Interest\": round(interest, 2),\n",
    "            \"Balance\": round(balance if balance > 0 else 0, 2)\n",
    "        })\n",
    "\n",
    "    return schedule\n",
    "\n",
    "def get_values_from_key(list_of_dictionaries, key):\n",
    "    \"\"\"\n",
    "    Extracts all values associated with a specific key from a list of dictionaries.\n",
    "\n",
    "    Args:\n",
    "        list_of_dictionaries: A list of dictionaries.\n",
    "        key: The key to extract values for.\n",
    "\n",
    "    Returns:\n",
    "        A list containing all values associated with the given key.\n",
    "    \"\"\"\n",
    "    return [dictionary[key] for dictionary in list_of_dictionaries if key in dictionary]\n",
    "    \n",
    "def average_chunks(X, chunk_size=12):\n",
    "    \"\"\"\n",
    "    Averages every `chunk_size` consecutive items in list X.\n",
    "\n",
    "    :param X: List of numbers (length must be divisible by chunk_size)\n",
    "    :param chunk_size: Number of items to average together\n",
    "    :return: List of averaged values\n",
    "    \"\"\"\n",
    "    if len(X) % chunk_size != 0:\n",
    "        raise ValueError(\"List length must be divisible by chunk size.\")\n",
    "\n",
    "    return [\n",
    "        sum(X[i:i + chunk_size]) / chunk_size\n",
    "        for i in range(0, len(X), chunk_size)\n",
    "    ]\n",
    "\n",
    "def Sum_years(sched,Var):\n",
    "    Val=get_values_from_key(sched,Var)\n",
    "    return average_chunks(Val, chunk_size=12)"
   ]
  },
  {
   "cell_type": "markdown",
   "id": "77564509-90d5-4c42-bd85-c991a91596ef",
   "metadata": {},
   "source": [
    "### Make equation for growth"
   ]
  },
  {
   "cell_type": "code",
   "execution_count": 36,
   "id": "04dca175-71f8-46cc-a2a3-e07d2f2dad0a",
   "metadata": {},
   "outputs": [],
   "source": [
    "def calc_investment_growth(p, pctAnnualGrowth, y):\n",
    "    \"\"\"\n",
    "    Calculates the future value of an investment using compound interest.\n",
    "\n",
    "    :param price: Initial investment amount (P)\n",
    "    :param pctAnnualGrowth: Annual interest rate (in percent, e.g. 5 for 5%)\n",
    "    :param y: Number of years the money is invested (t)\n",
    "    :param compounds_per_year: Number of times interest is compounded per year (n)\n",
    "    :return: Future value of the investment (A)\n",
    "    \"\"\"\n",
    "    growth = (p * (1 + pctAnnualGrowth) ** (compounds_per_year * y))-p\n",
    "    #growth = p * (1 + pctAnnualGrowth / compounds_per_year) ** (compounds_per_year * y)\n",
    "    return growth"
   ]
  },
  {
   "cell_type": "code",
   "execution_count": 37,
   "id": "23c3aff1-5f3a-4154-ac2a-5ac2f4f0f976",
   "metadata": {},
   "outputs": [],
   "source": [
    "def create_growthChart(n):\n",
    "    yearList=range(n)\n",
    "    growthChart = []\n",
    "    for x in yearList:\n",
    "        growthChart.append(round(calc_investment_growth(price, pctAnnualGrowth, x, compounds_per_year=1)))\n",
    "    return growthChart"
   ]
  },
  {
   "cell_type": "markdown",
   "id": "84e63ec2-bffe-45e6-a0f3-e0d6c1a9daf5",
   "metadata": {},
   "source": [
    "### Schedule"
   ]
  },
  {
   "cell_type": "code",
   "execution_count": 38,
   "id": "8f55e612-4994-46a6-b829-1480cb6df6f0",
   "metadata": {},
   "outputs": [],
   "source": [
    "schedule=calculate_amortization_schedule(loanAmt, interestRate, loanTerm)"
   ]
  },
  {
   "cell_type": "markdown",
   "id": "38f14701-f129-4816-9a07-3db72fc78ff4",
   "metadata": {},
   "source": [
    "### Mortgage yearly equation"
   ]
  },
  {
   "cell_type": "code",
   "execution_count": 39,
   "id": "d74508a9-b9a4-4088-92cd-3f610c480762",
   "metadata": {},
   "outputs": [],
   "source": [
    "mortgageYearly=Sum_years(schedule,\"Payment\")"
   ]
  },
  {
   "cell_type": "markdown",
   "id": "8a205944-422a-4518-9317-92bd71c17561",
   "metadata": {},
   "source": [
    "### Interest yearly equation"
   ]
  },
  {
   "cell_type": "code",
   "execution_count": 40,
   "id": "a6d1f35c-05a3-4434-b65a-1637d9b313e2",
   "metadata": {},
   "outputs": [],
   "source": [
    "interestYearly=Sum_years(schedule,\"Interest\")"
   ]
  },
  {
   "cell_type": "markdown",
   "id": "4ab2cc0a-9fcb-40d2-ae99-4f35d4e8b3f1",
   "metadata": {},
   "source": [
    "### Principle Yearly"
   ]
  },
  {
   "cell_type": "code",
   "execution_count": 41,
   "id": "0b1e5ff4-4276-4ead-bf37-61d20b22bf58",
   "metadata": {},
   "outputs": [],
   "source": [
    "principalYearly=Sum_years(schedule,\"Principal\")"
   ]
  },
  {
   "cell_type": "code",
   "execution_count": 42,
   "id": "61f9d180-cdd9-43bb-9c28-13aa91ed5d27",
   "metadata": {},
   "outputs": [],
   "source": [
    "def calc_cost(y,principal):\n",
    "    cost=sum(principal[:y])+((insuranceYearly+taxYearly+hoaYearly)*y)-in\n",
    "    return cost"
   ]
  },
  {
   "cell_type": "code",
   "execution_count": 43,
   "id": "8ab5f69d-9cfa-46d0-94ba-b9aa268f6363",
   "metadata": {},
   "outputs": [],
   "source": [
    "def create_costChart(n):\n",
    "    yearList=range(n)\n",
    "    costChart = []\n",
    "    for x in yearList:\n",
    "        costChart.append(round(calc_cost(x,principalYearly)))\n",
    "    return costChart"
   ]
  },
  {
   "cell_type": "code",
   "execution_count": 44,
   "id": "0e3e6155-80c0-4078-addd-3f5cd9e8ddf4",
   "metadata": {},
   "outputs": [],
   "source": [
    "def calc_rent(y):\n",
    "    rent=y*12*rentMonthly\n",
    "    return rent"
   ]
  },
  {
   "cell_type": "code",
   "execution_count": 45,
   "id": "65ffd85b-6268-4bd0-a55a-28e613185ac8",
   "metadata": {},
   "outputs": [],
   "source": [
    "def create_rentChart(n):\n",
    "    yearList=range(n)\n",
    "    rentChart=[]\n",
    "    for x in yearList:\n",
    "        rentChart.append(round(calc_rent(x)))\n",
    "    return rentChart"
   ]
  },
  {
   "cell_type": "code",
   "execution_count": 46,
   "id": "2e7b64bf-d645-457f-b191-81c6f0261b87",
   "metadata": {},
   "outputs": [],
   "source": [
    "def chart_costs(n):\n",
    "\n",
    "    y1 = np.array(create_costChart(n))\n",
    "    y2 = np.array(create_growthChart(n))\n",
    "    y3 = np.array(create_rentChart(n))\n",
    "    plt.plot(y1,label=\"costs\")\n",
    "    plt.plot(y2,label=\"gains\")\n",
    "    plt.plot(y3,label=\"rent spent\")\n",
    "    plt.legend(loc=\"upper left\")\n",
    "    plt.ticklabel_format(axis='both', style='plain',)\n",
    "\n",
    "    plt.show()"
   ]
  },
  {
   "cell_type": "code",
   "execution_count": 53,
   "id": "f5777d52-cce8-443a-8441-5d814c4ea483",
   "metadata": {},
   "outputs": [
    {
     "data": {
      "application/vnd.jupyter.widget-view+json": {
       "model_id": "e5654b12b1de4c519920eb7cc75f08d3",
       "version_major": 2,
       "version_minor": 0
      },
      "text/plain": [
       "interactive(children=(IntSlider(value=10, description='n', max=20, min=1), Output()), _dom_classes=('widget-in…"
      ]
     },
     "metadata": {},
     "output_type": "display_data"
    },
    {
     "data": {
      "text/plain": [
       "<function __main__.chart_costs(n)>"
      ]
     },
     "execution_count": 53,
     "metadata": {},
     "output_type": "execute_result"
    }
   ],
   "source": [
    "ipywidgets.interact(chart_costs, n=(1,20,1))\n"
   ]
  },
  {
   "cell_type": "code",
   "execution_count": 66,
   "id": "f7a12a8c-c456-4e6c-a70c-29e1a1b3f3b2",
   "metadata": {},
   "outputs": [],
   "source": [
    "def chart_costs_delux(n,price=500000,\n",
    "                      interestRate= 7.21,\n",
    "                      downPayment=200000,\n",
    "                     loanTerm= 30,\n",
    "                     nAnnualPayments= 12,\n",
    "                     insurancePcnt= .04,\n",
    "                     hoa=360,\n",
    "                    pctAnnualGrowth=.05,\n",
    "                    rentMonthly=3500,\n",
    "                    millage=18.42):\n",
    "    # Loan Amount\n",
    "    loanAmt= price-downPayment\n",
    "    # Interest Total Cost\n",
    "    interestCost=(interestRate/100)*loanAmt\n",
    "    # Monthly mortgage\n",
    "    #mortgageMonthly=(loanAmt+interestCost)/(loanTerm*nAnnualPayments)\n",
    "    #mortgageInterestYearly=interestCost/(loanTerm*nAnnualPayments)\n",
    "\n",
    "    # propTax (percent)\n",
    "    taxYearly=price*(millage/1000)\n",
    "    taxMonthly=taxYearly/12\n",
    "\n",
    "    #Monthly insurance\n",
    "    insuranceYearly=price*insurancePcnt\n",
    "    # HOA (monthly)\n",
    "    hoaYearly=hoa*12\n",
    "\n",
    "\n",
    "    def calculate_amortization_schedule(loan_amount, annual_rate, loan_term_years):\n",
    "        monthly_rate = annual_rate / 100 / 12\n",
    "        total_payments = loan_term_years * 12\n",
    "    \n",
    "        # Calculate fixed monthly mortgage payment\n",
    "        monthly_payment = loan_amount * monthly_rate / (1 - (1 + monthly_rate) ** -total_payments)\n",
    "    \n",
    "        schedule = []\n",
    "        balance = loan_amount\n",
    "    \n",
    "        for month in range(1, total_payments + 1):\n",
    "            interest = balance * monthly_rate\n",
    "            principal = monthly_payment - interest\n",
    "            balance -= principal\n",
    "    \n",
    "            schedule.append({\n",
    "                \"Month\": month,\n",
    "                \"Payment\": round(monthly_payment, 2),\n",
    "                \"Principal\": round(principal, 2),\n",
    "                \"Interest\": round(interest, 2),\n",
    "                \"Balance\": round(balance if balance > 0 else 0, 2)\n",
    "            })\n",
    "    \n",
    "        return schedule\n",
    "    \n",
    "    def get_values_from_key(list_of_dictionaries, key):\n",
    "        \"\"\"\n",
    "        Extracts all values associated with a specific key from a list of dictionaries.\n",
    "    \n",
    "        Args:\n",
    "            list_of_dictionaries: A list of dictionaries.\n",
    "            key: The key to extract values for.\n",
    "    \n",
    "        Returns:\n",
    "            A list containing all values associated with the given key.\n",
    "        \"\"\"\n",
    "        return [dictionary[key] for dictionary in list_of_dictionaries if key in dictionary]\n",
    "        \n",
    "    def average_chunks(X, chunk_size=12):\n",
    "        \"\"\"\n",
    "        Averages every `chunk_size` consecutive items in list X.\n",
    "    \n",
    "        :param X: List of numbers (length must be divisible by chunk_size)\n",
    "        :param chunk_size: Number of items to average together\n",
    "        :return: List of averaged values\n",
    "        \"\"\"\n",
    "        if len(X) % chunk_size != 0:\n",
    "            raise ValueError(\"List length must be divisible by chunk size.\")\n",
    "    \n",
    "        return [\n",
    "            sum(X[i:i + chunk_size]) / chunk_size\n",
    "            for i in range(0, len(X), chunk_size)\n",
    "        ]\n",
    "    \n",
    "    def Sum_years(sched,Var):\n",
    "        Val=get_values_from_key(sched,Var)\n",
    "        return average_chunks(Val, chunk_size=12)\n",
    "\n",
    "    def calc_investment_growth(p, pctAnnualGrowth, y):\n",
    "        \"\"\"\n",
    "        Calculates the future value of an investment using compound interest.\n",
    "    \n",
    "        :param price: Initial investment amount (P)\n",
    "        :param pctAnnualGrowth: Annual interest rate (in percent, e.g. 5 for 5%)\n",
    "        :param y: Number of years the money is invested (t)\n",
    "        :param compounds_per_year: Number of times interest is compounded per year (n)\n",
    "        :return: Future value of the investment (A)\n",
    "        \"\"\"\n",
    "        growth = (p * (1 + pctAnnualGrowth) **  y)-p\n",
    "        #growth = p * (1 + pctAnnualGrowth / compounds_per_year) ** (compounds_per_year * y)\n",
    "        return growth\n",
    "    \n",
    "    def create_growthChart(n):\n",
    "        yearList=range(n)\n",
    "        growthChart = []\n",
    "        for x in yearList:\n",
    "            growthChart.append(round(calc_investment_growth(price, pctAnnualGrowth, x)))\n",
    "        return growthChart\n",
    "    \n",
    "    \n",
    "    schedule=calculate_amortization_schedule(loanAmt, interestRate, loanTerm)\n",
    "    \n",
    "    mortgageYearly=Sum_years(schedule,\"Payment\")\n",
    "    \n",
    "    interestYearly=Sum_years(schedule,\"Interest\")\n",
    "    \n",
    "    principalYearly=Sum_years(schedule,\"Principal\")\n",
    "    \n",
    "    def calc_cost(y,principal):\n",
    "        cost=sum(principal[:y])+((insuranceYearly+taxYearly+hoaYearly)*y)\n",
    "        return cost\n",
    "    \n",
    "    def create_costChart(n):\n",
    "        yearList=range(n)\n",
    "        costChart = []\n",
    "        for x in yearList:\n",
    "            costChart.append(round(calc_cost(x,principalYearly)))\n",
    "        return costChart\n",
    "    \n",
    "    def calc_rent(y):\n",
    "        rent=y*12*rentMonthly\n",
    "        return rent\n",
    "    \n",
    "    def create_rentChart(n):\n",
    "        yearList=range(n)\n",
    "        rentChart=[]\n",
    "        for x in yearList:\n",
    "            rentChart.append(round(calc_rent(x)))\n",
    "        return rentChart\n",
    "    \n",
    "    y1 = np.array(create_costChart(n))\n",
    "    y2 = np.array(create_growthChart(n))\n",
    "    y3 = np.array(create_rentChart(n))\n",
    "    plt.plot(y1,label=\"costs\")\n",
    "    plt.plot(y2,label=\"gains\")\n",
    "    plt.plot(y3,label=\"rent spent\")\n",
    "    plt.legend(loc=\"upper left\")\n",
    "    plt.ticklabel_format(axis='both', style='plain',)\n",
    "\n",
    "    plt.show()"
   ]
  },
  {
   "cell_type": "code",
   "execution_count": 68,
   "id": "4277488b-4d5b-4730-bbb8-f16455e1f725",
   "metadata": {},
   "outputs": [
    {
     "data": {
      "application/vnd.jupyter.widget-view+json": {
       "model_id": "a8d50290263e494785579bdec3223cbd",
       "version_major": 2,
       "version_minor": 0
      },
      "text/plain": [
       "interactive(children=(IntSlider(value=15, description='n', max=30, min=1), IntSlider(value=500000, description…"
      ]
     },
     "metadata": {},
     "output_type": "display_data"
    },
    {
     "data": {
      "text/plain": [
       "<function __main__.chart_costs_delux(n, price=500000, interestRate=7.21, downPayment=200000, loanTerm=30, nAnnualPayments=12, insurancePcnt=0.04, hoa=360, pctAnnualGrowth=0.05, rentMonthly=3500, millage=18.42)>"
      ]
     },
     "execution_count": 68,
     "metadata": {},
     "output_type": "execute_result"
    }
   ],
   "source": [
    " ipywidgets.interact(chart_costs_delux,n=(1,30,1),price=(0,2000000,10000),\n",
    "                      interestRate= (3,15,.1),# 7.21,\n",
    "                      downPayment=(0,1000000,10000),#200000,\n",
    "                     loanTerm= [5,30],\n",
    "                     nAnnualPayments= 12,\n",
    "                     insurancePcnt= [.01,.04],\n",
    "                     hoa=(0,1500,20),\n",
    "                    pctAnnualGrowth=.05,\n",
    "                    rentMonthly=3500,\n",
    "                    millage=18.42)"
   ]
  },
  {
   "cell_type": "markdown",
   "id": "780b30e5-dbec-4ff7-93af-19db0b079d77",
   "metadata": {},
   "source": [
    "## determine monthly costs"
   ]
  },
  {
   "cell_type": "code",
   "execution_count": 71,
   "id": "2cc76044-e7e9-46de-82a1-72a908ca1d32",
   "metadata": {},
   "outputs": [
    {
     "ename": "NameError",
     "evalue": "name 'principal' is not defined",
     "output_type": "error",
     "traceback": [
      "\u001b[1;31m---------------------------------------------------------------------------\u001b[0m",
      "\u001b[1;31mNameError\u001b[0m                                 Traceback (most recent call last)",
      "Cell \u001b[1;32mIn[71], line 1\u001b[0m\n\u001b[1;32m----> 1\u001b[0m principal\n",
      "\u001b[1;31mNameError\u001b[0m: name 'principal' is not defined"
     ]
    }
   ],
   "source": [
    "principal"
   ]
  },
  {
   "cell_type": "code",
   "execution_count": null,
   "id": "8f95a7a5-fc8e-401d-add6-0b646b0f5fe5",
   "metadata": {},
   "outputs": [],
   "source": []
  }
 ],
 "metadata": {
  "kernelspec": {
   "display_name": "Python 3 (ipykernel)",
   "language": "python",
   "name": "python3"
  },
  "language_info": {
   "codemirror_mode": {
    "name": "ipython",
    "version": 3
   },
   "file_extension": ".py",
   "mimetype": "text/x-python",
   "name": "python",
   "nbconvert_exporter": "python",
   "pygments_lexer": "ipython3",
   "version": "3.12.1"
  }
 },
 "nbformat": 4,
 "nbformat_minor": 5
}
