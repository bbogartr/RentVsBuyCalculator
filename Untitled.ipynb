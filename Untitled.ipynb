{
 "cells": [
  {
   "cell_type": "markdown",
   "id": "77564509-90d5-4c42-bd85-c991a91596ef",
   "metadata": {},
   "source": [
    "## Make equation for buying"
   ]
  },
  {
   "cell_type": "code",
   "execution_count": null,
   "id": "be95ab9f-8c39-4bdd-afe0-9b622559ed24",
   "metadata": {},
   "outputs": [],
   "source": []
  },
  {
   "cell_type": "markdown",
   "id": "780b30e5-dbec-4ff7-93af-19db0b079d77",
   "metadata": {},
   "source": [
    "## determine monthly mortgage"
   ]
  },
  {
   "cell_type": "code",
   "execution_count": null,
   "id": "2538c491-31fa-4486-a9e4-7316e2aa55c3",
   "metadata": {},
   "outputs": [],
   "source": []
  },
  {
   "cell_type": "markdown",
   "id": "18383fa8-8607-4385-85dc-d1ac5c83c349",
   "metadata": {},
   "source": [
    "## create variables"
   ]
  },
  {
   "cell_type": "code",
   "execution_count": null,
   "id": "d42d5846-8add-4bbe-885b-dbd86b4b242e",
   "metadata": {},
   "outputs": [],
   "source": [
    "# House Price\n",
    "price=[]\n",
    "# Down Payment\n",
    "downPayment=200000\n",
    "# Down payment percent\n",
    "downPcnt=[]\n",
    "# Loan Amount\n",
    "loanAmt= price-downPayment\n",
    "# Annual Interest Rate (percent%)\n",
    "interestRate= 7\n",
    "# Life of Loan (Years) aka: Loan term\n",
    "loanTerm= 30\n",
    "# Number of Payments per Year\n",
    "nAnnualPayments= 12\n",
    "# Interest Total Cost\n",
    "interestCost=(interestrate/100)*loanAmt\n",
    "# propTax (percent)\n",
    "tax=price*(18.42/1000)\n",
    "# Insurance (percent)\n",
    "insurancePcnt= 4\n",
    "# HOA (monthly)\n",
    "HOA=360\n",
    "# Monthly cost Sum of Monthly Payments\n",
    "monthlyPayment=\n",
    "\n",
    "# Yearly income\n",
    "incomeAnnual=300000\n",
    "\n",
    "# Annual house appreciation\n",
    "pctAnnualGrowth="
   ]
  }
 ],
 "metadata": {
  "kernelspec": {
   "display_name": "Python 3 (ipykernel)",
   "language": "python",
   "name": "python3"
  },
  "language_info": {
   "codemirror_mode": {
    "name": "ipython",
    "version": 3
   },
   "file_extension": ".py",
   "mimetype": "text/x-python",
   "name": "python",
   "nbconvert_exporter": "python",
   "pygments_lexer": "ipython3",
   "version": "3.12.1"
  }
 },
 "nbformat": 4,
 "nbformat_minor": 5
}
